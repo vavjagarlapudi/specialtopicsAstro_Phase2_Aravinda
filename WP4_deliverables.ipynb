{
 "cells": [
  {
   "cell_type": "code",
   "execution_count": 1,
   "metadata": {},
   "outputs": [
    {
     "name": "stderr",
     "output_type": "stream",
     "text": [
      "C:\\Users\\HP\\Anaconda3\\envs\\specialTopics\\lib\\site-packages\\tensorflow\\python\\framework\\dtypes.py:526: FutureWarning: Passing (type, 1) or '1type' as a synonym of type is deprecated; in a future version of numpy, it will be understood as (type, (1,)) / '(1,)type'.\n",
      "  _np_qint8 = np.dtype([(\"qint8\", np.int8, 1)])\n",
      "C:\\Users\\HP\\Anaconda3\\envs\\specialTopics\\lib\\site-packages\\tensorflow\\python\\framework\\dtypes.py:527: FutureWarning: Passing (type, 1) or '1type' as a synonym of type is deprecated; in a future version of numpy, it will be understood as (type, (1,)) / '(1,)type'.\n",
      "  _np_quint8 = np.dtype([(\"quint8\", np.uint8, 1)])\n",
      "C:\\Users\\HP\\Anaconda3\\envs\\specialTopics\\lib\\site-packages\\tensorflow\\python\\framework\\dtypes.py:528: FutureWarning: Passing (type, 1) or '1type' as a synonym of type is deprecated; in a future version of numpy, it will be understood as (type, (1,)) / '(1,)type'.\n",
      "  _np_qint16 = np.dtype([(\"qint16\", np.int16, 1)])\n",
      "C:\\Users\\HP\\Anaconda3\\envs\\specialTopics\\lib\\site-packages\\tensorflow\\python\\framework\\dtypes.py:529: FutureWarning: Passing (type, 1) or '1type' as a synonym of type is deprecated; in a future version of numpy, it will be understood as (type, (1,)) / '(1,)type'.\n",
      "  _np_quint16 = np.dtype([(\"quint16\", np.uint16, 1)])\n",
      "C:\\Users\\HP\\Anaconda3\\envs\\specialTopics\\lib\\site-packages\\tensorflow\\python\\framework\\dtypes.py:530: FutureWarning: Passing (type, 1) or '1type' as a synonym of type is deprecated; in a future version of numpy, it will be understood as (type, (1,)) / '(1,)type'.\n",
      "  _np_qint32 = np.dtype([(\"qint32\", np.int32, 1)])\n",
      "C:\\Users\\HP\\Anaconda3\\envs\\specialTopics\\lib\\site-packages\\tensorflow\\python\\framework\\dtypes.py:535: FutureWarning: Passing (type, 1) or '1type' as a synonym of type is deprecated; in a future version of numpy, it will be understood as (type, (1,)) / '(1,)type'.\n",
      "  np_resource = np.dtype([(\"resource\", np.ubyte, 1)])\n"
     ]
    },
    {
     "name": "stdout",
     "output_type": "stream",
     "text": [
      "1.13.1\n"
     ]
    },
    {
     "data": {
      "text/html": [
       "<div>\n",
       "<style scoped>\n",
       "    .dataframe tbody tr th:only-of-type {\n",
       "        vertical-align: middle;\n",
       "    }\n",
       "\n",
       "    .dataframe tbody tr th {\n",
       "        vertical-align: top;\n",
       "    }\n",
       "\n",
       "    .dataframe thead th {\n",
       "        text-align: right;\n",
       "    }\n",
       "</style>\n",
       "<table border=\"1\" class=\"dataframe\">\n",
       "  <thead>\n",
       "    <tr style=\"text-align: right;\">\n",
       "      <th></th>\n",
       "      <th>alpha</th>\n",
       "      <th>tu</th>\n",
       "      <th>ts</th>\n",
       "      <th>EN</th>\n",
       "    </tr>\n",
       "  </thead>\n",
       "  <tbody>\n",
       "    <tr>\n",
       "      <th>52</th>\n",
       "      <td>60.0</td>\n",
       "      <td>29.416598</td>\n",
       "      <td>-23.296639</td>\n",
       "      <td>0.050987</td>\n",
       "    </tr>\n",
       "    <tr>\n",
       "      <th>53</th>\n",
       "      <td>62.5</td>\n",
       "      <td>29.408689</td>\n",
       "      <td>-31.415927</td>\n",
       "      <td>0.081744</td>\n",
       "    </tr>\n",
       "    <tr>\n",
       "      <th>54</th>\n",
       "      <td>65.0</td>\n",
       "      <td>31.415927</td>\n",
       "      <td>-30.863802</td>\n",
       "      <td>0.222853</td>\n",
       "    </tr>\n",
       "    <tr>\n",
       "      <th>55</th>\n",
       "      <td>67.5</td>\n",
       "      <td>31.415927</td>\n",
       "      <td>-31.409498</td>\n",
       "      <td>0.428109</td>\n",
       "    </tr>\n",
       "    <tr>\n",
       "      <th>56</th>\n",
       "      <td>70.0</td>\n",
       "      <td>31.415927</td>\n",
       "      <td>-31.415927</td>\n",
       "      <td>0.613385</td>\n",
       "    </tr>\n",
       "  </tbody>\n",
       "</table>\n",
       "</div>"
      ],
      "text/plain": [
       "    alpha         tu         ts        EN\n",
       "52   60.0  29.416598 -23.296639  0.050987\n",
       "53   62.5  29.408689 -31.415927  0.081744\n",
       "54   65.0  31.415927 -30.863802  0.222853\n",
       "55   67.5  31.415927 -31.409498  0.428109\n",
       "56   70.0  31.415927 -31.415927  0.613385"
      ]
     },
     "execution_count": 1,
     "metadata": {},
     "output_type": "execute_result"
    }
   ],
   "source": [
    "from __future__ import absolute_import, division, print_function, unicode_literals\n",
    "\n",
    "import pathlib\n",
    "\n",
    "import matplotlib.pyplot as plt\n",
    "import numpy as np\n",
    "import pandas as pd\n",
    "import seaborn as sns\n",
    "import tensorflow as tf\n",
    "from tensorflow import keras\n",
    "from tensorflow.keras import layers\n",
    "from mpl_toolkits.mplot3d import Axes3D\n",
    "\n",
    "print(tf.__version__)\n",
    "tf.set_random_seed(1)\n",
    "raw_dataset = pd.read_csv(\"ANN_WP4.csv\", \n",
    "                  sep=',', \n",
    "                  names=[\"alpha\", \"tu\", \"ts\",\"EN\"])\n",
    "dataset = raw_dataset.copy()\n",
    "#dataset=pd.concat([dataset.pop(x) for x in [\"EN\"]],1)\n",
    "#print(dataset.shape)\n",
    "dataset.tail()\n"
   ]
  },
  {
   "cell_type": "code",
   "execution_count": 2,
   "metadata": {},
   "outputs": [],
   "source": [
    "dataset.isna().sum()\n",
    "dataset = dataset.dropna()\n",
    "dataset = pd.get_dummies(dataset, prefix='', prefix_sep='')\n",
    "dataset.tail()\n",
    "\n",
    "train_dataset = dataset.sample(frac=0.85,random_state=0)\n",
    "train_dataset_temp = train_dataset\n",
    "#print(train_dataset.index)\n",
    "test_dataset = dataset.drop(train_dataset.index)\n",
    "#print(test_dataset)\n"
   ]
  },
  {
   "cell_type": "code",
   "execution_count": 3,
   "metadata": {},
   "outputs": [
    {
     "data": {
      "text/html": [
       "<div>\n",
       "<style scoped>\n",
       "    .dataframe tbody tr th:only-of-type {\n",
       "        vertical-align: middle;\n",
       "    }\n",
       "\n",
       "    .dataframe tbody tr th {\n",
       "        vertical-align: top;\n",
       "    }\n",
       "\n",
       "    .dataframe thead th {\n",
       "        text-align: right;\n",
       "    }\n",
       "</style>\n",
       "<table border=\"1\" class=\"dataframe\">\n",
       "  <thead>\n",
       "    <tr style=\"text-align: right;\">\n",
       "      <th></th>\n",
       "      <th>count</th>\n",
       "      <th>mean</th>\n",
       "      <th>std</th>\n",
       "      <th>min</th>\n",
       "      <th>25%</th>\n",
       "      <th>50%</th>\n",
       "      <th>75%</th>\n",
       "      <th>max</th>\n",
       "    </tr>\n",
       "  </thead>\n",
       "  <tbody>\n",
       "    <tr>\n",
       "      <th>alpha</th>\n",
       "      <td>48.0</td>\n",
       "      <td>-0.729167</td>\n",
       "      <td>39.332727</td>\n",
       "      <td>-67.500000</td>\n",
       "      <td>-33.125000</td>\n",
       "      <td>-1.250000</td>\n",
       "      <td>30.625000</td>\n",
       "      <td>70.000000</td>\n",
       "    </tr>\n",
       "    <tr>\n",
       "      <th>tu</th>\n",
       "      <td>48.0</td>\n",
       "      <td>17.103755</td>\n",
       "      <td>10.566318</td>\n",
       "      <td>0.588668</td>\n",
       "      <td>9.031782</td>\n",
       "      <td>16.672606</td>\n",
       "      <td>28.844809</td>\n",
       "      <td>31.415927</td>\n",
       "    </tr>\n",
       "    <tr>\n",
       "      <th>ts</th>\n",
       "      <td>48.0</td>\n",
       "      <td>-15.565194</td>\n",
       "      <td>9.500426</td>\n",
       "      <td>-31.415927</td>\n",
       "      <td>-23.568526</td>\n",
       "      <td>-13.814991</td>\n",
       "      <td>-8.758476</td>\n",
       "      <td>-0.452042</td>\n",
       "    </tr>\n",
       "    <tr>\n",
       "      <th>EN</th>\n",
       "      <td>48.0</td>\n",
       "      <td>0.085572</td>\n",
       "      <td>0.115122</td>\n",
       "      <td>0.015222</td>\n",
       "      <td>0.035030</td>\n",
       "      <td>0.055929</td>\n",
       "      <td>0.073994</td>\n",
       "      <td>0.613385</td>\n",
       "    </tr>\n",
       "  </tbody>\n",
       "</table>\n",
       "</div>"
      ],
      "text/plain": [
       "       count       mean        std        min        25%        50%  \\\n",
       "alpha   48.0  -0.729167  39.332727 -67.500000 -33.125000  -1.250000   \n",
       "tu      48.0  17.103755  10.566318   0.588668   9.031782  16.672606   \n",
       "ts      48.0 -15.565194   9.500426 -31.415927 -23.568526 -13.814991   \n",
       "EN      48.0   0.085572   0.115122   0.015222   0.035030   0.055929   \n",
       "\n",
       "             75%        max  \n",
       "alpha  30.625000  70.000000  \n",
       "tu     28.844809  31.415927  \n",
       "ts     -8.758476  -0.452042  \n",
       "EN      0.073994   0.613385  "
      ]
     },
     "execution_count": 3,
     "metadata": {},
     "output_type": "execute_result"
    }
   ],
   "source": [
    "train_stats = train_dataset.describe()\n",
    "train_stats = train_stats.transpose()\n",
    "train_stats\n",
    "#print(train_stats)"
   ]
  },
  {
   "cell_type": "code",
   "execution_count": 4,
   "metadata": {},
   "outputs": [],
   "source": [
    "def norm(x):\n",
    "    return (x - train_stats['min']) / (train_stats['max']-train_stats['min'])\n",
    "\n",
    "normed_train_data = norm(train_dataset)\n",
    "\n",
    "train_labels = pd.concat([normed_train_data.pop(x) for x in [\"EN\"]], 1)\n",
    "\n",
    "#print(train_labels)\n",
    "#print(normed_train_data)"
   ]
  },
  {
   "cell_type": "code",
   "execution_count": 5,
   "metadata": {},
   "outputs": [],
   "source": [
    "normed_test_data = norm(test_dataset)\n",
    "\n",
    "test_labels = pd.concat([normed_test_data.pop(x) for x in [\"EN\"]], 1)\n",
    "\n",
    "#print(test_labels)\n",
    "#print(normed_test_data)"
   ]
  },
  {
   "cell_type": "code",
   "execution_count": 14,
   "metadata": {},
   "outputs": [
    {
     "name": "stdout",
     "output_type": "stream",
     "text": [
      "_________________________________________________________________\n",
      "Layer (type)                 Output Shape              Param #   \n",
      "=================================================================\n",
      "dense_4 (Dense)              (None, 25)                100       \n",
      "_________________________________________________________________\n",
      "dense_5 (Dense)              (None, 50)                1300      \n",
      "_________________________________________________________________\n",
      "dense_6 (Dense)              (None, 45)                2295      \n",
      "_________________________________________________________________\n",
      "dense_7 (Dense)              (None, 1)                 46        \n",
      "=================================================================\n",
      "Total params: 3,741\n",
      "Trainable params: 3,741\n",
      "Non-trainable params: 0\n",
      "_________________________________________________________________\n"
     ]
    }
   ],
   "source": [
    "def build_model():\n",
    "  model = keras.Sequential([\n",
    "    layers.Dense(25, activation='exponential', input_shape=[3]),\n",
    "    layers.Dense(50, activation='tanh'),\n",
    "    layers.Dense(45, activation='exponential'),\n",
    "    layers.Dense(1, activation='exponential')\n",
    "  ])\n",
    "#keras.optimizers.Nadam(lr=0.002, beta_1=0.9, beta_2=0.999)\n",
    "#keras.optimizers.RMSprop(lr=0.001, rho=0.9)\n",
    "  optimizer = tf.keras.optimizers.Nadam(lr=0.003, beta_1=0.9, beta_2=0.999)\n",
    "  model.compile(loss='mse',\n",
    "                optimizer=optimizer,\n",
    "                metrics=['mae', 'mse'])\n",
    "  return model\n",
    "model = build_model()\n",
    "model.summary()\n"
   ]
  },
  {
   "cell_type": "code",
   "execution_count": 15,
   "metadata": {},
   "outputs": [
    {
     "data": {
      "text/html": [
       "<div>\n",
       "<style scoped>\n",
       "    .dataframe tbody tr th:only-of-type {\n",
       "        vertical-align: middle;\n",
       "    }\n",
       "\n",
       "    .dataframe tbody tr th {\n",
       "        vertical-align: top;\n",
       "    }\n",
       "\n",
       "    .dataframe thead th {\n",
       "        text-align: right;\n",
       "    }\n",
       "</style>\n",
       "<table border=\"1\" class=\"dataframe\">\n",
       "  <thead>\n",
       "    <tr style=\"text-align: right;\">\n",
       "      <th></th>\n",
       "      <th>loss</th>\n",
       "      <th>mean_absolute_error</th>\n",
       "      <th>mean_squared_error</th>\n",
       "      <th>val_loss</th>\n",
       "      <th>val_mean_absolute_error</th>\n",
       "      <th>val_mean_squared_error</th>\n",
       "      <th>epoch</th>\n",
       "    </tr>\n",
       "  </thead>\n",
       "  <tbody>\n",
       "    <tr>\n",
       "      <th>9995</th>\n",
       "      <td>0.001390</td>\n",
       "      <td>0.011439</td>\n",
       "      <td>0.001390</td>\n",
       "      <td>0.012053</td>\n",
       "      <td>0.051907</td>\n",
       "      <td>0.012053</td>\n",
       "      <td>9995</td>\n",
       "    </tr>\n",
       "    <tr>\n",
       "      <th>9996</th>\n",
       "      <td>0.001336</td>\n",
       "      <td>0.011615</td>\n",
       "      <td>0.001336</td>\n",
       "      <td>0.011898</td>\n",
       "      <td>0.052451</td>\n",
       "      <td>0.011898</td>\n",
       "      <td>9996</td>\n",
       "    </tr>\n",
       "    <tr>\n",
       "      <th>9997</th>\n",
       "      <td>0.001263</td>\n",
       "      <td>0.011711</td>\n",
       "      <td>0.001263</td>\n",
       "      <td>0.011505</td>\n",
       "      <td>0.052767</td>\n",
       "      <td>0.011505</td>\n",
       "      <td>9997</td>\n",
       "    </tr>\n",
       "    <tr>\n",
       "      <th>9998</th>\n",
       "      <td>0.001177</td>\n",
       "      <td>0.011060</td>\n",
       "      <td>0.001177</td>\n",
       "      <td>0.011721</td>\n",
       "      <td>0.052440</td>\n",
       "      <td>0.011721</td>\n",
       "      <td>9998</td>\n",
       "    </tr>\n",
       "    <tr>\n",
       "      <th>9999</th>\n",
       "      <td>0.001121</td>\n",
       "      <td>0.011056</td>\n",
       "      <td>0.001121</td>\n",
       "      <td>0.012090</td>\n",
       "      <td>0.052375</td>\n",
       "      <td>0.012090</td>\n",
       "      <td>9999</td>\n",
       "    </tr>\n",
       "  </tbody>\n",
       "</table>\n",
       "</div>"
      ],
      "text/plain": [
       "          loss  mean_absolute_error  mean_squared_error  val_loss  \\\n",
       "9995  0.001390             0.011439            0.001390  0.012053   \n",
       "9996  0.001336             0.011615            0.001336  0.011898   \n",
       "9997  0.001263             0.011711            0.001263  0.011505   \n",
       "9998  0.001177             0.011060            0.001177  0.011721   \n",
       "9999  0.001121             0.011056            0.001121  0.012090   \n",
       "\n",
       "      val_mean_absolute_error  val_mean_squared_error  epoch  \n",
       "9995                 0.051907                0.012053   9995  \n",
       "9996                 0.052451                0.011898   9996  \n",
       "9997                 0.052767                0.011505   9997  \n",
       "9998                 0.052440                0.011721   9998  \n",
       "9999                 0.052375                0.012090   9999  "
      ]
     },
     "execution_count": 15,
     "metadata": {},
     "output_type": "execute_result"
    }
   ],
   "source": [
    "EPOCHS = 10000\n",
    "\n",
    "history = model.fit(\n",
    "  normed_train_data, train_labels,\n",
    "  epochs=EPOCHS, validation_split = 0.2, verbose=0)\n",
    "hist = pd.DataFrame(history.history)\n",
    "hist['epoch'] = history.epoch\n",
    "hist.tail()\n"
   ]
  },
  {
   "cell_type": "code",
   "execution_count": 16,
   "metadata": {},
   "outputs": [
    {
     "data": {
      "image/png": "[encoded data removed]",
      "text/plain": [
       "<Figure size 432x288 with 1 Axes>"
      ]
     },
     "metadata": {
      "needs_background": "light"
     },
     "output_type": "display_data"
    }
   ],
   "source": [
    "plt.plot(history.history['mean_absolute_error'])\n",
    "plt.plot(history.history['val_mean_absolute_error'])\n",
    "#plt.ylim([0,10])\n",
    "plt.title('Mean absolute error')\n",
    "plt.ylabel('MAE []')\n",
    "plt.xlabel('epoch')\n",
    "plt.legend(['train','val.'],loc='upper right')\n",
    "plt.savefig('mae_epoch.png', dpi = 600)\n",
    "plt.show()"
   ]
  },
  {
   "cell_type": "code",
   "execution_count": 17,
   "metadata": {},
   "outputs": [
    {
     "data": {
      "image/png": "[encoded data removed]",
      "text/plain": [
       "<Figure size 432x288 with 1 Axes>"
      ]
     },
     "metadata": {
      "needs_background": "light"
     },
     "output_type": "display_data"
    }
   ],
   "source": [
    "plt.plot(history.history['mean_squared_error'])\n",
    "plt.plot(history.history['val_mean_squared_error'])\n",
    "#plt.ylim([0,20])\n",
    "plt.title('Mean squared error')\n",
    "plt.ylabel('MSE []')\n",
    "plt.xlabel('epoch')\n",
    "plt.legend(['MSE train','MSE val.'],loc='upper right')\n",
    "plt.savefig('mse_epoch.png', dpi = 600)\n",
    "plt.show()"
   ]
  },
  {
   "cell_type": "code",
   "execution_count": 18,
   "metadata": {},
   "outputs": [
    {
     "name": "stdout",
     "output_type": "stream",
     "text": [
      " - 0s - loss: 0.0848 - mean_absolute_error: 0.1735 - mean_squared_error: 0.0848\n",
      "Testing set Mean Abs Error:  0.17 e\n"
     ]
    }
   ],
   "source": [
    "loss, mae, mse = model.evaluate(normed_test_data, test_labels, verbose=2)\n",
    "\n",
    "print(\"Testing set Mean Abs Error: {:5.2f} e\".format(mae))\n"
   ]
  },
  {
   "cell_type": "code",
   "execution_count": 19,
   "metadata": {},
   "outputs": [],
   "source": [
    "test_predictions = model.predict(normed_test_data)\n"
   ]
  },
  {
   "cell_type": "code",
   "execution_count": 20,
   "metadata": {},
   "outputs": [
    {
     "data": {
      "image/png": "[encoded data removed]",
      "text/plain": [
       "<Figure size 432x288 with 1 Axes>"
      ]
     },
     "metadata": {
      "needs_background": "light"
     },
     "output_type": "display_data"
    }
   ],
   "source": [
    "a = plt.axes(aspect='equal')\n",
    "columns = [\"EN\"]\n",
    "color = [\"r.\"]\n",
    "for i in range(1):    \n",
    "    plt.plot(test_labels[columns[i]].to_numpy(), test_predictions[:,i], color[i], label = columns[i] )\n",
    "    plt.xlabel('True Values')\n",
    "    plt.ylabel('Predictions')\n",
    "    plt.legend()\n",
    "    plt.tight_layout()\n",
    "plt.savefig('Minimum Euclidean Norm', dpi = 600)\n",
    "plt.show()"
   ]
  },
  {
   "cell_type": "code",
   "execution_count": 21,
   "metadata": {},
   "outputs": [
    {
     "name": "stdout",
     "output_type": "stream",
     "text": [
      "          EN\n",
      "0  -0.648096\n",
      "3   0.228425\n",
      "9   0.057934\n",
      "19  0.033758\n",
      "39 -0.024929\n",
      "44  0.014149\n",
      "47  0.017900\n",
      "52 -0.002640\n",
      "53  0.533907\n"
     ]
    }
   ],
   "source": [
    "error = test_predictions - test_labels\n",
    "print(error)"
   ]
  },
  {
   "cell_type": "code",
   "execution_count": null,
   "metadata": {},
   "outputs": [],
   "source": []
  }
 ],
 "metadata": {
  "kernelspec": {
   "display_name": "Python 3",
   "language": "python",
   "name": "python3"
  },
  "language_info": {
   "codemirror_mode": {
    "name": "ipython",
    "version": 3
   },
   "file_extension": ".py",
   "mimetype": "text/x-python",
   "name": "python",
   "nbconvert_exporter": "python",
   "pygments_lexer": "ipython3",
   "version": "3.7.6"
  }
 },
 "nbformat": 4,
 "nbformat_minor": 4
}
